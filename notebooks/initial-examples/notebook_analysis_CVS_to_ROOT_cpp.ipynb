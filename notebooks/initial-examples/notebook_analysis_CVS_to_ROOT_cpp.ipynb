{
 "cells": [
  {
   "cell_type": "markdown",
   "metadata": {},
   "source": [
    "<CENTER><img src=\"opendata-top-transblack.png\" style=\"width:40%\"></CENTER>"
   ]
  },
  {
   "cell_type": "markdown",
   "metadata": {},
   "source": [
    "<CENTER><h1>Simple CVS to ROOT C++ notebook example</h1></CENTER>"
   ]
  },
  {
   "cell_type": "code",
   "execution_count": 1,
   "metadata": {
    "collapsed": false,
    "inputHidden": false,
    "outputHidden": false
   },
   "outputs": [],
   "source": [
    "//%jsroot on"
   ]
  },
  {
   "cell_type": "code",
   "execution_count": 2,
   "metadata": {
    "collapsed": true
   },
   "outputs": [],
   "source": [
    "#include \"Riostream.h\"\n",
    "#include \"TString.h\"\n",
    "#include \"TFile.h\"\n",
    "#include \"TTree.h\"\n",
    "#include \"TSystem.h\"\n",
    "#include <stdio.h>\n",
    "#include <stdlib.h>"
   ]
  },
  {
   "cell_type": "markdown",
   "metadata": {},
   "source": [
    "Download the data"
   ]
  },
  {
   "cell_type": "code",
   "execution_count": 3,
   "metadata": {
    "collapsed": false
   },
   "outputs": [
    {
     "name": "stderr",
     "output_type": "stream",
     "text": [
      "--2019-09-27 23:20:33--  https://docs.google.com/spreadsheets/d/1nH8J5PViu8yRVMAY5q3ydS6Onqv5ZOh3tdeM5MP9YQo/export?format=csv\r\n",
      "Resolving docs.google.com (docs.google.com)... 172.217.30.174, 2800:3f0:4002:807::200e\r\n",
      "Connecting to docs.google.com (docs.google.com)|172.217.30.174|:443... connected.\r\n",
      "HTTP request sent, awaiting response... 200 OK\r\n",
      "Length: unspecified [text/csv]\r\n",
      "Saving to: ‘ages.csv’\r\n",
      "\r\n",
      "\r",
      "ages.csv                [<=>                   ]       0  --.-KB/s             \r",
      "ages.csv                [ <=>                  ]     692  --.-KB/s   in 0s     \r\n",
      "\r\n",
      "2019-09-27 23:20:34 (13.3 MB/s) - ‘ages.csv’ saved [692]\r\n",
      "\r\n"
     ]
    }
   ],
   "source": [
    "//This two lines can be commented out. You just need it once, and in case the CVS file was not provided already\n",
    "system(\"wget https://docs.google.com/spreadsheets/d/1nH8J5PViu8yRVMAY5q3ydS6Onqv5ZOh3tdeM5MP9YQo/export?format=csv -O ages.csv\");\n",
    "\n",
    "//If the file is downloaded with the line above, you *need* to remove the first line of the CSV file"
   ]
  },
  {
   "cell_type": "markdown",
   "metadata": {},
   "source": [
    "Create a ROOT file to save the data that now is in the CSV"
   ]
  },
  {
   "cell_type": "code",
   "execution_count": 4,
   "metadata": {
    "collapsed": false
   },
   "outputs": [],
   "source": [
    "TString dir = gSystem->UnixPathName(__FILE__);\n",
    "dir.ReplaceAll(\"ages.C\",\"\");\n",
    "dir.ReplaceAll(\"/./\",\"/\");\n",
    "\n",
    "TFile *f = new TFile(\"ages.root\",\"RECREATE\");"
   ]
  },
  {
   "cell_type": "markdown",
   "metadata": {},
   "source": [
    "Read the CSV file and save the values into a ROOT file"
   ]
  },
  {
   "cell_type": "code",
   "execution_count": 5,
   "metadata": {
    "collapsed": false,
    "scrolled": true
   },
   "outputs": [
    {
     "name": "stderr",
     "output_type": "stream",
     "text": [
      "TTree::ReadStream:0: RuntimeWarning: Couldn't read formatted data in \"room1\" for branch room1 on line 1; ignoring line\n",
      "TTree::ReadStream:0: RuntimeWarning: Read too few columns (2 < 11) in line 1; ignoring line\n",
      "TTree::ReadStream:0: RuntimeWarning: Read too few columns (10 < 11) in line 14; ignoring line\n",
      "TTree::ReadStream:0: RuntimeWarning: Read too few columns (10 < 11) in line 15; ignoring line\n"
     ]
    }
   ],
   "source": [
    "TTree *tree = new TTree(\"data\",\"data from csv file\");\n",
    "// The file inside has -------->   \"Room\",\"room1\",\"room2\",\"room3\",\"room4\",\"room5\",\"room6\",\"room7\",\"room8\",\"room9\",\"room10\"\n",
    "tree->ReadFile(\"ages.csv\",\"Room/C:room1/f:room2/F:room3/F:room4/F:room5/F:room6/F:room7/F:room8/F:room9/F:room10/F\",',');\n",
    "f->Write();"
   ]
  },
  {
   "cell_type": "markdown",
   "metadata": {},
   "source": [
    "Let's plot some stats of the files"
   ]
  },
  {
   "cell_type": "code",
   "execution_count": 6,
   "metadata": {
    "collapsed": false
   },
   "outputs": [
    {
     "name": "stdout",
     "output_type": "stream",
     "text": [
      "-rw-r--r-- 1 summerstudent users  692 Sep 27 23:20 ages.csv\r\n",
      "-rw-r--r-- 1 summerstudent users 6.8K Sep 27 23:20 ages.root\r\n",
      "\r\n",
      "This dataset contains the below number of data points / rows\r\n",
      "14 ages.csv\r\n"
     ]
    }
   ],
   "source": [
    "system(\"ls -lhrt ages*\");\n",
    "system(\"echo\");\n",
    "system(\"echo 'This dataset contains the below number of data points / rows'\");\n",
    "system(\"wc -l ages.csv\");"
   ]
  },
  {
   "cell_type": "markdown",
   "metadata": {},
   "source": [
    "Let's open the new root file"
   ]
  },
  {
   "cell_type": "code",
   "execution_count": 7,
   "metadata": {
    "collapsed": false
   },
   "outputs": [],
   "source": [
    "TFile *_file0 = TFile::Open(\"ages.root\");"
   ]
  },
  {
   "cell_type": "markdown",
   "metadata": {},
   "source": [
    "## Let's do some visualisations"
   ]
  },
  {
   "cell_type": "code",
   "execution_count": 8,
   "metadata": {
    "collapsed": false
   },
   "outputs": [
    {
     "data": {
      "image/png": "[encoded data removed]",
      "text/plain": [
       "<IPython.core.display.Image object>"
      ]
     },
     "metadata": {},
     "output_type": "display_data"
    }
   ],
   "source": [
    "TCanvas *example3Dplot = new TCanvas(\"example3Dplot\",\"example 3D plot\",10,10,720,420);\n",
    "data->Draw(\"room1:room3\",\"room2>-1\",\"SURF\");\n",
    "example3Dplot->Draw();"
   ]
  },
  {
   "cell_type": "markdown",
   "metadata": {},
   "source": []
  },
  {
   "cell_type": "code",
   "execution_count": 9,
   "metadata": {
    "collapsed": false
   },
   "outputs": [
    {
     "data": {
      "image/png": "[encoded data removed]",
      "text/plain": [
       "<IPython.core.display.Image object>"
      ]
     },
     "metadata": {},
     "output_type": "display_data"
    }
   ],
   "source": [
    "TCanvas *example2Dplot = new TCanvas(\"example2Dplot\",\"example 2D plot\",10,10,720,420);\n",
    "data->Draw(\"room1:room2\",\"room2>-100\",\"textcolz\");\n",
    "example2Dplot->SetGrid();\n",
    "example2Dplot->Draw();"
   ]
  },
  {
   "cell_type": "markdown",
   "metadata": {},
   "source": [
    "<CENTER><h2>this is my title</h2>\n",
    "<p>...write more documentation</p></CENTER>"
   ]
  },
  {
   "cell_type": "code",
   "execution_count": 14,
   "metadata": {
    "collapsed": false
   },
   "outputs": [
    {
     "name": "stderr",
     "output_type": "stream",
     "text": [
      "TCanvas::Constructor:0: RuntimeWarning: Deleting canvas with same name: dfdglot\n"
     ]
    },
    {
     "data": {
      "image/png": "[encoded data removed]",
      "text/plain": [
       "<IPython.core.display.Image object>"
      ]
     },
     "metadata": {},
     "output_type": "display_data"
    }
   ],
   "source": [
    "TCanvas *example1Dplot = new TCanvas(\"example1Dplot\",\"example 1D plot\",10,10,400,400);\n",
    "data->Draw(\"room1\");\n",
    "example1Dplot->SetGrid();\n",
    "example1Dplot->Draw();"
   ]
  },
  {
   "cell_type": "code",
   "execution_count": null,
   "metadata": {
    "collapsed": true
   },
   "outputs": [],
   "source": []
  }
 ],
 "metadata": {
  "kernel_info": {
   "name": "root"
  },
  "kernelspec": {
   "display_name": "ROOT Prompt",
   "language": "c++",
   "name": "root"
  },
  "language_info": {
   "codemirror_mode": {
    "name": "ipython",
    "version": 2
   },
   "file_extension": ".py",
   "mimetype": "text/x-python",
   "name": "python",
   "nbconvert_exporter": "python",
   "pygments_lexer": "ipython2",
   "version": "2.7.9"
  },
  "nteract": {
   "version": "0.3.4"
  }
 },
 "nbformat": 4,
 "nbformat_minor": 0
}
