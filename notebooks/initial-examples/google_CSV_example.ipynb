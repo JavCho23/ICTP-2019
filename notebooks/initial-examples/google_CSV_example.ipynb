{
 "cells": [
  {
   "cell_type": "markdown",
   "metadata": {},
   "source": [
    "<CENTER><h3>Example of Python installation and running of Google input</h3</CENTER>"
   ]
  },
  {
   "cell_type": "code",
   "execution_count": 1,
   "metadata": {
    "collapsed": false
   },
   "outputs": [
    {
     "name": "stdout",
     "output_type": "stream",
     "text": [
      "\u001b[33mDEPRECATION: Python 2.7 will reach the end of its life on January 1st, 2020. Please upgrade your Python as Python 2.7 won't be maintained after that date. A future version of pip will drop support for Python 2.7. More details about Python 2 support in pip, can be found at https://pip.pypa.io/en/latest/development/release-process/#python-2-support\u001b[0m\n",
      "Requirement already up-to-date: pip in /home/student/.local/lib/python2.7/site-packages (19.2.3)\n",
      "\u001b[33mDEPRECATION: Python 2.7 will reach the end of its life on January 1st, 2020. Please upgrade your Python as Python 2.7 won't be maintained after that date. A future version of pip will drop support for Python 2.7. More details about Python 2 support in pip, can be found at https://pip.pypa.io/en/latest/development/release-process/#python-2-support\u001b[0m\n",
      "Requirement already up-to-date: numpy in /home/student/.local/lib/python2.7/site-packages (1.16.5)\n",
      "Requirement already up-to-date: pandas in /home/student/.local/lib/python2.7/site-packages (0.24.2)\n",
      "Requirement already up-to-date: uproot in /home/student/.local/lib/python2.7/site-packages (3.10.2)\n",
      "Requirement already up-to-date: matplotlib in /home/student/.local/lib/python2.7/site-packages (2.2.4)\n",
      "Requirement already up-to-date: keras in /home/student/.local/lib/python2.7/site-packages (2.3.0)\n",
      "Requirement already up-to-date: scikit-learn in /home/student/.local/lib/python2.7/site-packages (0.20.4)\n",
      "Requirement already satisfied, skipping upgrade: pytz>=2011k in /home/student/.local/lib/python2.7/site-packages (from pandas) (2019.1)\n",
      "Requirement already satisfied, skipping upgrade: python-dateutil>=2.5.0 in /home/student/.local/lib/python2.7/site-packages (from pandas) (2.8.0)\n",
      "Requirement already satisfied, skipping upgrade: awkward<1.0,>=0.12.0 in /home/student/.local/lib/python2.7/site-packages (from uproot) (0.12.3)\n",
      "Requirement already satisfied, skipping upgrade: uproot-methods>=0.7.0 in /home/student/.local/lib/python2.7/site-packages (from uproot) (0.7.0)\n",
      "Requirement already satisfied, skipping upgrade: cachetools in /home/student/.local/lib/python2.7/site-packages (from uproot) (3.1.1)\n",
      "Requirement already satisfied, skipping upgrade: cycler>=0.10 in /home/student/.local/lib/python2.7/site-packages (from matplotlib) (0.10.0)\n",
      "Requirement already satisfied, skipping upgrade: backports.functools-lru-cache in /home/student/.local/lib/python2.7/site-packages (from matplotlib) (1.5)\n",
      "Requirement already satisfied, skipping upgrade: subprocess32 in /home/student/.local/lib/python2.7/site-packages (from matplotlib) (3.5.4)\n",
      "Requirement already satisfied, skipping upgrade: kiwisolver>=1.0.1 in /home/student/.local/lib/python2.7/site-packages (from matplotlib) (1.1.0)\n",
      "Requirement already satisfied, skipping upgrade: six>=1.10 in /home/student/.local/lib/python2.7/site-packages (from matplotlib) (1.10.0)\n",
      "Requirement already satisfied, skipping upgrade: pyparsing!=2.0.4,!=2.1.2,!=2.1.6,>=2.0.1 in /home/student/.local/lib/python2.7/site-packages (from matplotlib) (2.4.0)\n",
      "Requirement already satisfied, skipping upgrade: keras-applications>=1.0.6 in /home/student/.local/lib/python2.7/site-packages (from keras) (1.0.8)\n",
      "Requirement already satisfied, skipping upgrade: keras-preprocessing>=1.0.5 in /home/student/.local/lib/python2.7/site-packages (from keras) (1.1.0)\n",
      "Requirement already satisfied, skipping upgrade: scipy>=0.14 in /home/student/.local/lib/python2.7/site-packages (from keras) (1.2.2)\n",
      "Requirement already satisfied, skipping upgrade: h5py in /home/student/.local/lib/python2.7/site-packages (from keras) (2.9.0)\n",
      "Requirement already satisfied, skipping upgrade: pyyaml in /home/student/.local/lib/python2.7/site-packages (from keras) (5.1.1)\n",
      "Requirement already satisfied, skipping upgrade: setuptools in /home/student/.local/lib/python2.7/site-packages (from kiwisolver>=1.0.1->matplotlib) (28.6.1)\n"
     ]
    }
   ],
   "source": [
    "import sys\n",
    "!{sys.executable} -m pip install --upgrade --user pip\n",
    "!{sys.executable} -m pip install -U numpy pandas uproot matplotlib keras scikit-learn --user"
   ]
  },
  {
   "cell_type": "code",
   "execution_count": 2,
   "metadata": {
    "collapsed": false
   },
   "outputs": [],
   "source": [
    "import os\n",
    "import csv\n",
    "import pandas as pd\n",
    "import numpy as np\n",
    "import matplotlib.pyplot as plt\n",
    "from pandas import read_csv\n",
    "from matplotlib import pyplot"
   ]
  },
  {
   "cell_type": "code",
   "execution_count": 3,
   "metadata": {
    "collapsed": false
   },
   "outputs": [
    {
     "data": {
      "text/plain": [
       "0"
      ]
     },
     "execution_count": 3,
     "metadata": {},
     "output_type": "execute_result"
    }
   ],
   "source": [
    "bashCommand = \"wget https://docs.google.com/spreadsheets/d/1nH8J5PViu8yRVMAY5q3ydS6Onqv5ZOh3tdeM5MP9YQo/export?format=csv -O ages.csv\"\n",
    "os.system(bashCommand)"
   ]
  },
  {
   "cell_type": "code",
   "execution_count": 4,
   "metadata": {
    "collapsed": true
   },
   "outputs": [],
   "source": [
    "path = 'ages.csv'\n",
    "headers = ['Room','Variable 1','Variable 2']\n",
    "df = pd.read_csv(path)"
   ]
  },
  {
   "cell_type": "code",
   "execution_count": 5,
   "metadata": {
    "collapsed": true
   },
   "outputs": [],
   "source": [
    "df = df.set_index('Room')"
   ]
  },
  {
   "cell_type": "code",
   "execution_count": 6,
   "metadata": {
    "collapsed": false,
    "scrolled": true
   },
   "outputs": [
    {
     "data": {
      "text/html": [
       "<div>\n",
       "<style scoped>\n",
       "    .dataframe tbody tr th:only-of-type {\n",
       "        vertical-align: middle;\n",
       "    }\n",
       "\n",
       "    .dataframe tbody tr th {\n",
       "        vertical-align: top;\n",
       "    }\n",
       "\n",
       "    .dataframe thead th {\n",
       "        text-align: right;\n",
       "    }\n",
       "</style>\n",
       "<table border=\"1\" class=\"dataframe\">\n",
       "  <thead>\n",
       "    <tr style=\"text-align: right;\">\n",
       "      <th></th>\n",
       "      <th>room1</th>\n",
       "      <th>room2</th>\n",
       "      <th>room3</th>\n",
       "      <th>room4</th>\n",
       "      <th>room5</th>\n",
       "      <th>room6</th>\n",
       "      <th>room7</th>\n",
       "      <th>room8</th>\n",
       "      <th>room9</th>\n",
       "      <th>room10</th>\n",
       "    </tr>\n",
       "    <tr>\n",
       "      <th>Room</th>\n",
       "      <th></th>\n",
       "      <th></th>\n",
       "      <th></th>\n",
       "      <th></th>\n",
       "      <th></th>\n",
       "      <th></th>\n",
       "      <th></th>\n",
       "      <th></th>\n",
       "      <th></th>\n",
       "      <th></th>\n",
       "    </tr>\n",
       "  </thead>\n",
       "  <tbody>\n",
       "    <tr>\n",
       "      <th>Subject A</th>\n",
       "      <td>132.0</td>\n",
       "      <td>69.0</td>\n",
       "      <td>46509696.0</td>\n",
       "      <td>845.0</td>\n",
       "      <td>5566.0</td>\n",
       "      <td>1.0</td>\n",
       "      <td>841.0</td>\n",
       "      <td>877.0</td>\n",
       "      <td>14.0</td>\n",
       "      <td>1.0</td>\n",
       "    </tr>\n",
       "    <tr>\n",
       "      <th>Subject B</th>\n",
       "      <td>323232.0</td>\n",
       "      <td>420.0</td>\n",
       "      <td>14.0</td>\n",
       "      <td>32.0</td>\n",
       "      <td>3443.0</td>\n",
       "      <td>327.0</td>\n",
       "      <td>5.0</td>\n",
       "      <td>45.0</td>\n",
       "      <td>66.0</td>\n",
       "      <td>7.0</td>\n",
       "    </tr>\n",
       "    <tr>\n",
       "      <th>Subject C</th>\n",
       "      <td>4747.0</td>\n",
       "      <td>5.0</td>\n",
       "      <td>785.0</td>\n",
       "      <td>23.0</td>\n",
       "      <td>55.0</td>\n",
       "      <td>9887888.0</td>\n",
       "      <td>567.0</td>\n",
       "      <td>333.0</td>\n",
       "      <td>3432.0</td>\n",
       "      <td>74.0</td>\n",
       "    </tr>\n",
       "    <tr>\n",
       "      <th>Subject D</th>\n",
       "      <td>4.0</td>\n",
       "      <td>4.0</td>\n",
       "      <td>65.0</td>\n",
       "      <td>57473732.0</td>\n",
       "      <td>324.0</td>\n",
       "      <td>8.0</td>\n",
       "      <td>666.0</td>\n",
       "      <td>754.0</td>\n",
       "      <td>666.0</td>\n",
       "      <td>7.0</td>\n",
       "    </tr>\n",
       "    <tr>\n",
       "      <th>Subject E</th>\n",
       "      <td>2.0</td>\n",
       "      <td>74.0</td>\n",
       "      <td>58.0</td>\n",
       "      <td>5.0</td>\n",
       "      <td>5.0</td>\n",
       "      <td>897.0</td>\n",
       "      <td>5.0</td>\n",
       "      <td>666.0</td>\n",
       "      <td>74.0</td>\n",
       "      <td>7.0</td>\n",
       "    </tr>\n",
       "  </tbody>\n",
       "</table>\n",
       "</div>"
      ],
      "text/plain": [
       "              room1  room2       room3       room4   room5      room6  room7  \\\n",
       "Room                                                                           \n",
       "Subject A     132.0   69.0  46509696.0       845.0  5566.0        1.0  841.0   \n",
       "Subject B  323232.0  420.0        14.0        32.0  3443.0      327.0    5.0   \n",
       "Subject C    4747.0    5.0       785.0        23.0    55.0  9887888.0  567.0   \n",
       "Subject D       4.0    4.0        65.0  57473732.0   324.0        8.0  666.0   \n",
       "Subject E       2.0   74.0        58.0         5.0     5.0      897.0    5.0   \n",
       "\n",
       "           room8   room9  room10  \n",
       "Room                              \n",
       "Subject A  877.0    14.0     1.0  \n",
       "Subject B   45.0    66.0     7.0  \n",
       "Subject C  333.0  3432.0    74.0  \n",
       "Subject D  754.0   666.0     7.0  \n",
       "Subject E  666.0    74.0     7.0  "
      ]
     },
     "execution_count": 6,
     "metadata": {},
     "output_type": "execute_result"
    }
   ],
   "source": [
    "df.head()"
   ]
  },
  {
   "cell_type": "code",
   "execution_count": 7,
   "metadata": {
    "collapsed": true
   },
   "outputs": [],
   "source": [
    "ages = df.columns[0:10]"
   ]
  },
  {
   "cell_type": "code",
   "execution_count": 8,
   "metadata": {
    "collapsed": false
   },
   "outputs": [
    {
     "data": {
      "text/plain": [
       "[<matplotlib.lines.Line2D at 0x7f87e0bd0850>]"
      ]
     },
     "execution_count": 8,
     "metadata": {},
     "output_type": "execute_result"
    }
   ],
   "source": [
    "# plot\n",
    "plt.plot(ages)"
   ]
  },
  {
   "cell_type": "code",
   "execution_count": 9,
   "metadata": {
    "collapsed": false
   },
   "outputs": [
    {
     "data": {
      "image/png": "[encoded data removed]",
      "text/plain": [
       "<Figure size 432x288 with 1 Axes>"
      ]
     },
     "metadata": {},
     "output_type": "display_data"
    }
   ],
   "source": [
    "plt.show()"
   ]
  },
  {
   "cell_type": "markdown",
   "metadata": {},
   "source": [
    "### More examples in: https://matplotlib.org/users/pyplot_tutorial.html"
   ]
  },
  {
   "cell_type": "code",
   "execution_count": 10,
   "metadata": {
    "collapsed": false
   },
   "outputs": [
    {
     "data": {
      "text/plain": [
       "<matplotlib.axes._subplots.AxesSubplot at 0x7f87e0bbead0>"
      ]
     },
     "execution_count": 10,
     "metadata": {},
     "output_type": "execute_result"
    }
   ],
   "source": [
    "data = read_csv('ages.csv', sep=',')\n",
    "data.plot(x = 1, y = 2)"
   ]
  },
  {
   "cell_type": "code",
   "execution_count": null,
   "metadata": {
    "collapsed": true
   },
   "outputs": [],
   "source": []
  },
  {
   "cell_type": "code",
   "execution_count": null,
   "metadata": {
    "collapsed": true
   },
   "outputs": [],
   "source": []
  }
 ],
 "metadata": {
  "kernelspec": {
   "display_name": "Python 2",
   "language": "python",
   "name": "python2"
  },
  "language_info": {
   "codemirror_mode": {
    "name": "ipython",
    "version": 2
   },
   "file_extension": ".py",
   "mimetype": "text/x-python",
   "name": "python",
   "nbconvert_exporter": "python",
   "pygments_lexer": "ipython2",
   "version": "2.7.9"
  }
 },
 "nbformat": 4,
 "nbformat_minor": 2
}
