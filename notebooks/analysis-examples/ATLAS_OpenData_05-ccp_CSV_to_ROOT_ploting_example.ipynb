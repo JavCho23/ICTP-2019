{
 "cells": [
  {
   "cell_type": "markdown",
   "metadata": {},
   "source": [
    "<CENTER>\n",
    "    <a href=\"http://opendata.atlas.cern\" class=\"icons\"><img src=\"../Assets/ATLASOD.gif\" style=\"width:50%\"></a>\n",
    "</CENTER>"
   ]
  },
  {
   "cell_type": "markdown",
   "metadata": {},
   "source": [
    "<CENTER><h1>Simple CVS to ROOT C++ notebook example</h1></CENTER>"
   ]
  },
  {
   "cell_type": "code",
   "execution_count": 1,
   "metadata": {
    "collapsed": true
   },
   "outputs": [],
   "source": [
    "//%jsroot on"
   ]
  },
  {
   "cell_type": "code",
   "execution_count": 2,
   "metadata": {
    "collapsed": true
   },
   "outputs": [],
   "source": [
    "#include \"Riostream.h\"\n",
    "#include \"TString.h\"\n",
    "#include \"TFile.h\"\n",
    "#include \"TTree.h\"\n",
    "#include \"TSystem.h\"\n",
    "#include <stdio.h>\n",
    "#include <stdlib.h>"
   ]
  },
  {
   "cell_type": "code",
   "execution_count": 3,
   "metadata": {
    "collapsed": false
   },
   "outputs": [
    {
     "name": "stderr",
     "output_type": "stream",
     "text": [
      "--2019-09-27 19:15:11--  http://opendata.atlas.cern/visualisations/CrossFilter/outreach.csv\r\n",
      "Resolving opendata.atlas.cern (opendata.atlas.cern)... 188.184.64.13\r\n",
      "Connecting to opendata.atlas.cern (opendata.atlas.cern)|188.184.64.13|:80... connected.\r\n",
      "HTTP request sent, awaiting response... 200 OK\r\n",
      "Length: 8802904 (8.4M) [text/csv]\r\n",
      "Saving to: ‘outreach.csv’\r\n",
      "\r\n",
      "\r",
      "outreach.csv          0%[                      ]       0  --.-KB/s             \r",
      "outreach.csv          0%[                      ]  19.97K  91.1KB/s             \r",
      "outreach.csv          0%[                      ]  33.39K  76.4KB/s             \r",
      "outreach.csv          0%[                      ]  44.92K  69.3KB/s             \r",
      "outreach.csv          0%[                      ]  62.01K  72.0KB/s             \r",
      "outreach.csv          0%[                      ]  83.99K  78.0KB/s             \r",
      "outreach.csv          1%[                      ] 110.84K  85.9KB/s             \r",
      "outreach.csv          1%[                      ] 140.14K  93.3KB/s             \r",
      "outreach.csv          2%[                      ] 177.44K   103KB/s             \r",
      "outreach.csv          2%[                      ] 221.38K   115KB/s             \r",
      "outreach.csv          3%[                      ] 272.65K   127KB/s             \r",
      "outreach.csv          3%[                      ] 331.79K   141KB/s             \r",
      "outreach.csv          4%[>                     ] 396.49K   154KB/s             \r",
      "outreach.csv          5%[>                     ] 472.85K   170KB/s             \r",
      "outreach.csv          6%[>                     ] 560.74K   187KB/s   eta 43s   \r",
      "outreach.csv          7%[>                     ] 665.72K   207KB/s   eta 43s   \r",
      "outreach.csv          9%[>                     ] 781.01K   228KB/s   eta 43s   \r",
      "outreach.csv         10%[=>                    ] 920.17K   252KB/s   eta 43s   \r",
      "outreach.csv         12%[=>                    ]   1.05M   278KB/s   eta 43s   \r",
      "outreach.csv         14%[==>                   ]   1.23M   309KB/s   eta 24s   \r",
      "outreach.csv         16%[==>                   ]   1.42M   339KB/s   eta 24s   \r",
      "outreach.csv         19%[===>                  ]   1.64M   387KB/s   eta 24s   \r",
      "outreach.csv         22%[===>                  ]   1.89M   444KB/s   eta 24s   \r",
      "outreach.csv         25%[====>                 ]   2.18M   510KB/s   eta 24s   \r",
      "outreach.csv         29%[=====>                ]   2.52M   587KB/s   eta 12s   \r",
      "outreach.csv         34%[======>               ]   2.90M   674KB/s   eta 12s   \r",
      "outreach.csv         39%[=======>              ]   3.33M   770KB/s   eta 12s   \r",
      "outreach.csv         45%[========>             ]   3.81M   914KB/s   eta 12s   \r",
      "outreach.csv         51%[==========>           ]   4.34M  1.01MB/s   eta 12s   \r",
      "outreach.csv         58%[===========>          ]   4.93M  1.15MB/s   eta 4s    \r",
      "outreach.csv         65%[=============>        ]   5.50M  1.28MB/s   eta 4s    \r",
      "outreach.csv         73%[===============>      ]   6.17M  1.49MB/s   eta 4s    \r",
      "outreach.csv         82%[=================>    ]   6.91M  1.67MB/s   eta 4s    \r",
      "outreach.csv         92%[===================>  ]   7.73M  1.94MB/s   eta 4s    \r",
      "outreach.csv        100%[=====================>]   8.39M  2.12MB/s   in 7.2s   \r\n",
      "\r\n",
      "2019-09-27 19:15:19 (1.17 MB/s) - ‘outreach.csv’ saved [8802904/8802904]\r\n",
      "\r\n"
     ]
    }
   ],
   "source": [
    "//This two lines can be commented out. You just need it once, and in case the CVS file was not provided already\n",
    "system(\"rm outreach.csv\");\n",
    "system(\"wget http://opendata.atlas.cern/visualisations/CrossFilter/outreach.csv\");\n",
    "\n",
    "//If the file is downloaded with the line above, you *need* to remove the first line of the outreach.csv"
   ]
  },
  {
   "cell_type": "code",
   "execution_count": 4,
   "metadata": {
    "collapsed": true
   },
   "outputs": [],
   "source": [
    "TString dir = gSystem->UnixPathName(__FILE__);\n",
    "dir.ReplaceAll(\"outreach.C\",\"\");\n",
    "dir.ReplaceAll(\"/./\",\"/\");\n",
    "\n",
    "TFile *f = new TFile(\"outreach.root\",\"RECREATE\");"
   ]
  },
  {
   "cell_type": "code",
   "execution_count": 5,
   "metadata": {
    "collapsed": false
   },
   "outputs": [
    {
     "name": "stderr",
     "output_type": "stream",
     "text": [
      "TTree::ReadStream:0: RuntimeWarning: Couldn't read formatted data in \"type\" for branch type on line 1; ignoring line\n",
      "TTree::ReadStream:0: RuntimeWarning: Read too few columns (1 < 10) in line 1; ignoring line\n"
     ]
    }
   ],
   "source": [
    "TTree *tree = new TTree(\"ntuple\",\"data from csv file\");\n",
    "// The file inside has ---->   type,  Channel,  NJets,  MET,  Mll,  LepDeltaPhi,  METLLDeltaPhi,  SumLepPt,  BTags,  weight\n",
    "tree->ReadFile(\"outreach.csv\",\"type/I:Channel/I:NJets/I:MET/F:Mll/F:LepDeltaPhi/F:METLLDeltaPhi/F:SumLepPt/F:BTags/F:weight/F\",',');\n",
    "f->Write();"
   ]
  },
  {
   "cell_type": "markdown",
   "metadata": {},
   "source": [
    "note that the line above generates a warning. This is because the first line of our CSV file contains the name of the colunms, but this is safely ignored by ROOT."
   ]
  },
  {
   "cell_type": "code",
   "execution_count": 6,
   "metadata": {
    "collapsed": false
   },
   "outputs": [
    {
     "name": "stdout",
     "output_type": "stream",
     "text": [
      "-rw-r--r-- 1 summerstudent users 8.4M Jan 15  2017 outreach.csv\r\n",
      "-rw-r--r-- 1 summerstudent users 3.0M Sep 27 19:15 outreach.root\r\n"
     ]
    }
   ],
   "source": [
    "system(\"ls -lhrt outreach.*\");"
   ]
  },
  {
   "cell_type": "markdown",
   "metadata": {},
   "source": [
    "Note in the output of the line above that the resulting ROOT files is ~35% of the size of the original SV file. This is another advantage of the ROOT format for this kind of datasets."
   ]
  },
  {
   "cell_type": "code",
   "execution_count": 7,
   "metadata": {
    "collapsed": false
   },
   "outputs": [],
   "source": [
    "TFile *_file0 = TFile::Open(\"outreach.root\");"
   ]
  },
  {
   "cell_type": "code",
   "execution_count": 8,
   "metadata": {
    "collapsed": false
   },
   "outputs": [
    {
     "data": {
      "image/png": "[encoded data removed]",
      "text/plain": [
       "<IPython.core.display.Image object>"
      ]
     },
     "metadata": {},
     "output_type": "display_data"
    }
   ],
   "source": [
    "TCanvas *c3D = new TCanvas(\"c3D\",\"c3D\",10,10,400,400);\n",
    "ntuple->Draw(\"MET:Mll:LepDeltaPhi\",\"MET>0.\");\n",
    "c3D->Draw();"
   ]
  },
  {
   "cell_type": "code",
   "execution_count": 9,
   "metadata": {
    "collapsed": true
   },
   "outputs": [],
   "source": [
    "TCanvas *cz = new TCanvas(\"cz\",\"cz\",10,10,400,400);\n",
    "ntuple->Draw(\"Mll:MET\",\"weight>-999\",\"colz\");"
   ]
  },
  {
   "cell_type": "code",
   "execution_count": 10,
   "metadata": {
    "collapsed": false
   },
   "outputs": [
    {
     "data": {
      "image/png": "[encoded data removed]",
      "text/plain": [
       "<IPython.core.display.Image object>"
      ]
     },
     "metadata": {},
     "output_type": "display_data"
    }
   ],
   "source": [
    "cz->Draw();"
   ]
  },
  {
   "cell_type": "code",
   "execution_count": 11,
   "metadata": {
    "collapsed": false
   },
   "outputs": [
    {
     "data": {
      "image/png": "[encoded data removed]",
      "text/plain": [
       "<IPython.core.display.Image object>"
      ]
     },
     "metadata": {},
     "output_type": "display_data"
    }
   ],
   "source": [
    "TCanvas *c2D = new TCanvas(\"c2D\",\"c2D\",10,10,400,400);\n",
    "ntuple->Draw(\"Mll:LepDeltaPhi\",\"MET>0.\",\"colz\");\n",
    "c2D->Draw();"
   ]
  },
  {
   "cell_type": "markdown",
   "metadata": {
    "collapsed": true
   },
   "source": [
    "Below you can try to create a more complex analysis, following what is done in the next notebooks examples in this repository."
   ]
  }
 ],
 "metadata": {
  "kernelspec": {
   "display_name": "ROOT Prompt",
   "language": "c++",
   "name": "root"
  },
  "language_info": {
   "codemirror_mode": {
    "name": "ipython",
    "version": 2
   },
   "file_extension": ".py",
   "mimetype": "text/x-python",
   "name": "python",
   "nbconvert_exporter": "python",
   "pygments_lexer": "ipython2",
   "version": "2.7.9"
  }
 },
 "nbformat": 4,
 "nbformat_minor": 1
}
